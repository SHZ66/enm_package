{
 "cells": [
  {
   "cell_type": "code",
   "execution_count": 1,
   "metadata": {},
   "outputs": [],
   "source": [
    "using LightGraphs, MetaGraphs, CSV, DataFrames, GraphDataFrameBridge"
   ]
  },
  {
   "cell_type": "code",
   "execution_count": 2,
   "metadata": {},
   "outputs": [],
   "source": [
    "using GraphPlot, LinearAlgebra, Plots\n",
    "BLAS.set_num_threads(10)\n",
    "using Statistics"
   ]
  },
  {
   "cell_type": "code",
   "execution_count": 3,
   "metadata": {},
   "outputs": [],
   "source": [
    "using StatsPlots"
   ]
  },
  {
   "cell_type": "code",
   "execution_count": 4,
   "metadata": {},
   "outputs": [
    {
     "data": {
      "text/plain": [
       "\"../data/interim/costanzo_pcc_ALL\""
      ]
     },
     "execution_count": 4,
     "metadata": {},
     "output_type": "execute_result"
    }
   ],
   "source": [
    "file = \"../data/interim/costanzo_pcc_ALL\""
   ]
  },
  {
   "cell_type": "code",
   "execution_count": 5,
   "metadata": {},
   "outputs": [
    {
     "name": "stderr",
     "output_type": "stream",
     "text": [
      "┌ Warning: `CSV.read(input; kw...)` is deprecated in favor of `CSV.read(input, DataFrame; kw...)\n",
      "└ @ CSV /home/oma21/.julia/packages/CSV/fOEbk/src/CSV.jl:41\n"
     ]
    }
   ],
   "source": [
    "df = CSV.read(file);"
   ]
  },
  {
   "cell_type": "code",
   "execution_count": 6,
   "metadata": {},
   "outputs": [],
   "source": [
    "mg = MetaGraph(df, :gene1, :gene2);"
   ]
  },
  {
   "cell_type": "code",
   "execution_count": 7,
   "metadata": {},
   "outputs": [],
   "source": [
    "gc, vmap = induced_subgraph(mg, connected_components(mg)[1]);"
   ]
  },
  {
   "cell_type": "code",
   "execution_count": 8,
   "metadata": {},
   "outputs": [
    {
     "data": {
      "text/plain": [
       "get_prs (generic function with 1 method)"
      ]
     },
     "execution_count": 8,
     "metadata": {},
     "output_type": "execute_result"
    }
   ],
   "source": [
    "function get_gnm(gc,no_zeros=true)\n",
    "    L = laplacian_matrix(gc)\n",
    "    f = eigen(Matrix(L))\n",
    "    if no_zeros\n",
    "        vals = f.values[2:length(f.values)];\n",
    "        vecs = f.vectors[:, 2:length(f.values)];\n",
    "    else\n",
    "        vals = f.values\n",
    "        vecs = f.vectors\n",
    "    end\n",
    "    return vals, vecs\n",
    "end\n",
    "function get_prs(v, w)\n",
    "    D = 1 ./ v\n",
    "    cov = w*(Diagonal(D) * w');\n",
    "    prs_mat = cov.^2;\n",
    "    prs_mat_diag = diag(prs_mat);\n",
    "    prs_mat_norm = prs_mat ./ prs_mat_diag'; \n",
    "    eff = sum(prs_mat_norm, dims = 1)';\n",
    "    sens = sum(prs_mat_norm, dims = 2);\n",
    "    \n",
    "    return prs_mat_norm, eff, sens\n",
    "end  "
   ]
  },
  {
   "cell_type": "code",
   "execution_count": 9,
   "metadata": {},
   "outputs": [],
   "source": [
    "v, w = get_gnm(gc);\n",
    "prs_mat , eff , sens = get_prs(v, w);"
   ]
  },
  {
   "cell_type": "code",
   "execution_count": 10,
   "metadata": {},
   "outputs": [
    {
     "data": {
      "text/plain": [
       "{5183, 39816} undirected simple static {UInt16, UInt32} graph"
      ]
     },
     "execution_count": 10,
     "metadata": {},
     "output_type": "execute_result"
    }
   ],
   "source": [
    "using StaticGraphs\n",
    "sgc = StaticGraph(gc.graph)"
   ]
  },
  {
   "cell_type": "code",
   "execution_count": 11,
   "metadata": {},
   "outputs": [
    {
     "name": "stdout",
     "output_type": "stream",
     "text": [
      "12.774204969406128\n"
     ]
    }
   ],
   "source": [
    "start = time()\n",
    "paths = zeros(5183,5183);\n",
    "for i in 1:nv(gc)\n",
    "    paths[i,:]=dijkstra_shortest_paths(sgc, i).dists\n",
    "end\n",
    "elapsed = time() - start\n",
    "println(elapsed)"
   ]
  },
  {
   "cell_type": "code",
   "execution_count": 12,
   "metadata": {},
   "outputs": [],
   "source": [
    "nodelist = Dict([(i, props(gc,i)[:name]) for i in 1:nv(gc)]);\n"
   ]
  },
  {
   "cell_type": "code",
   "execution_count": 13,
   "metadata": {},
   "outputs": [],
   "source": [
    "onedeg_nodes = findall(x->x==1,degree(gc));"
   ]
  },
  {
   "cell_type": "code",
   "execution_count": 14,
   "metadata": {},
   "outputs": [],
   "source": [
    "paths[diagind(paths)] .= Inf;"
   ]
  },
  {
   "cell_type": "code",
   "execution_count": 15,
   "metadata": {},
   "outputs": [],
   "source": [
    "p1=convert(Array{Int16},minimum(paths[:,onedeg_nodes],dims=2));"
   ]
  },
  {
   "cell_type": "code",
   "execution_count": 16,
   "metadata": {},
   "outputs": [],
   "source": [
    "p1_counts = [count(i->(i== j), p1) for j in 1:maximum(p1)];\n"
   ]
  },
  {
   "cell_type": "code",
   "execution_count": 18,
   "metadata": {},
   "outputs": [],
   "source": [
    "boxplot(p1,(degree(gc)),legend=false)\n",
    "violin!(p1,(degree(gc)),alpha=0.5)\n",
    "annotate!([(i,120, Plots.text(\"n=$(p1_counts[i])\",10)) for i in 1:length(p1_counts) ]) \n",
    "ylims!(0,120)\n",
    "xlabel!(\"Distance to 1-degree node\")\n",
    "ylabel!(\"Degree\")\n",
    "png(\"../reports/figures/pcc_prs_0722/degree_dist1.png\")"
   ]
  },
  {
   "cell_type": "code",
   "execution_count": 19,
   "metadata": {},
   "outputs": [],
   "source": [
    "boxplot(p1,log.(eff),legend=false)\n",
    "violin!(p1,log.(eff),alpha=0.5)\n",
    "annotate!([(i,5, Plots.text(\"n=$(p1_counts[i])\",10)) for i in 1:length(p1_counts) ]) \n",
    "ylims!(0,5)\n",
    "xlabel!(\"Distance to 1-degree node\")\n",
    "ylabel!(\"Log(Effectiveness)\")\n",
    "png(\"../reports/figures/pcc_prs_0722/eff_dist1.png\")"
   ]
  },
  {
   "cell_type": "code",
   "execution_count": 20,
   "metadata": {},
   "outputs": [],
   "source": [
    "sens= sens[:];"
   ]
  },
  {
   "cell_type": "code",
   "execution_count": 21,
   "metadata": {},
   "outputs": [],
   "source": [
    "boxplot(p1,log.(sens),legend=false)\n",
    "violin!(p1,log.(sens),alpha=0.5)\n",
    "annotate!([(i,5, Plots.text(\"n=$(p1_counts[i])\",10)) for i in 1:length(p1_counts) ]) \n",
    "hline!([Statistics.quantile!(log.(sens),0.99)])\n",
    "ylims!(0,5)\n",
    "xlabel!(\"Distance to 1-degree node\")\n",
    "ylabel!(\"Log(Sensitivity)\")\n",
    "png(\"../reports/figures/pcc_prs_0722/sens_dist1.png\")\n",
    "#png(\"../reports/figures/sens_dist\")"
   ]
  },
  {
   "cell_type": "code",
   "execution_count": 24,
   "metadata": {},
   "outputs": [],
   "source": [
    "twodeg_nodes = findall(x->x==2,degree(gc));\n",
    "p2 = minimum(paths[:,twodeg_nodes],dims=2);\n",
    "p2_counts = [count(i->(i== j), p2) for j in 1:maximum(p2)];"
   ]
  },
  {
   "cell_type": "code",
   "execution_count": 26,
   "metadata": {},
   "outputs": [],
   "source": [
    "boxplot(p2,(degree(gc)),legend=false)\n",
    "violin!(p2,(degree(gc)),alpha=0.5)\n",
    "annotate!([(i,120, Plots.text(\"n=$(p2_counts[i])\",10)) for i in 1:length(p2_counts) ]) \n",
    "ylims!(0,120)\n",
    "xlabel!(\"Distance to 2-degree node\")\n",
    "ylabel!(\"Degree\")\n",
    "png(\"../reports/figures/pcc_prs_0722/degree_dist2.png\")"
   ]
  },
  {
   "cell_type": "code",
   "execution_count": 27,
   "metadata": {},
   "outputs": [],
   "source": [
    "boxplot(p2,log.(eff),legend=false)\n",
    "violin!(p2,log.(eff),alpha=0.5)\n",
    "annotate!([(i,5, Plots.text(\"n=$(p2_counts[i])\",10)) for i in 1:length(p2_counts) ]) \n",
    "ylims!(0,5)\n",
    "xlabel!(\"Distance to 2-degree node\")\n",
    "ylabel!(\"Log(Effectiveness)\")\n",
    "png(\"../reports/figures/pcc_prs_0722/eff_dist2.png\")"
   ]
  },
  {
   "cell_type": "code",
   "execution_count": 28,
   "metadata": {},
   "outputs": [],
   "source": [
    "boxplot(p2,log.(sens),legend=false)\n",
    "violin!(p2,log.(sens),alpha=0.5)\n",
    "annotate!([(i,5, Plots.text(\"n=$(p2_counts[i])\",10)) for i in 1:length(p2_counts) ]) \n",
    "hline!([Statistics.quantile!(log.(sens),0.99)])\n",
    "ylims!(0,5)\n",
    "xlabel!(\"Distance to 2-degree node\")\n",
    "ylabel!(\"Log(Sensitivity)\")\n",
    "png(\"../reports/figures/pcc_prs_0722/sens_dist2.png\")\n",
    "#png(\"../reports/figures/sens_dist\")"
   ]
  }
 ],
 "metadata": {
  "kernelspec": {
   "display_name": "Julia 1.0.5",
   "language": "julia",
   "name": "julia-1.0"
  },
  "language_info": {
   "file_extension": ".jl",
   "mimetype": "application/julia",
   "name": "julia",
   "version": "1.4.2"
  }
 },
 "nbformat": 4,
 "nbformat_minor": 4
}
